{
  "cells": [
    {
      "cell_type": "code",
      "execution_count": null,
      "metadata": {
        "id": "7t-XpMaeWiU3"
      },
      "outputs": [],
      "source": [
        "#Not a standard class written to implement swich blocks\n",
        "class switch(object):\n",
        "    def __init__(self, value):\n",
        "        self.value = value  # the value we will look for\n",
        "        self.fall = False   # For empty case blocks\n",
        "\n",
        "    def __iter__(self):     # to be used in the for loop\n",
        "        \"\"\" Returns once the match method and terminates \"\"\"\n",
        "        yield self.match\n",
        "        raise StopIteration\n",
        "\n",
        "    def match(self, *args):\n",
        "        \"\"\" Indicates whether to enter the test version \"\"\"\n",
        "        if self.fall or not args:\n",
        "            # an empty argument list means the last case block\n",
        "            # fall means that the condition triggered earlier and you have to enter \n",
        "            #   in each case until the first break\n",
        "            return True\n",
        "        elif self.value in args:\n",
        "            self.fall = True\n",
        "            return True\n",
        "        return False"
      ]
    },
    {
      "cell_type": "code",
      "execution_count": null,
      "metadata": {
        "colab": {
          "base_uri": "https://localhost:8080/"
        },
        "id": "ul-GfHckWipn",
        "outputId": "8e677080-c1b0-42f7-a0fc-e36c077ec169"
      },
      "outputs": [
        {
          "name": "stdout",
          "output_type": "stream",
          "text": [
            "1\n"
          ]
        }
      ],
      "source": [
        "Alc = int(input())\n",
        "\n",
        "for case in switch(Alc):\n",
        "    if case(0): #Alcohol Related\n",
        "      Alc_Grade = 0\n",
        "      p1 = 0.073800738\n",
        "      #print('Alc_Grade = ', Alc_Grade) #Not important part, can be deleted to save memory\n",
        "      #print('p1 = ', p1) #Not important part, can be deleted to save memory\n",
        "      break\n",
        "    if case(1): #NonAlcohol Related\n",
        "      Alc_Grade = 4\n",
        "      p1 = 0\n",
        "      #print('Alc_Grade = ', Alc_Grade) #Not important part, can be deleted to save memory\n",
        "      #print('p1 = ', p1) #Not important part, can be deleted to save memory\n",
        "    break\n",
        "   "
      ]
    },
    {
      "cell_type": "code",
      "execution_count": null,
      "metadata": {
        "colab": {
          "base_uri": "https://localhost:8080/"
        },
        "id": "m6j3NkbxczuT",
        "outputId": "7314743b-371f-4e26-9390-9c2b3a9306b1"
      },
      "outputs": [
        {
          "name": "stdout",
          "output_type": "stream",
          "text": [
            "0\n"
          ]
        }
      ],
      "source": [
        "TXT = int(input())\n",
        "\n",
        "for case in switch(TXT):\n",
        "    if case(0): #The driver writes\n",
        "      TXT_Grade = 0\n",
        "      p2 = 2.65\n",
        "      #print('TXT_Grade = ', TXT_Grade) #Not important part, can be deleted to save memory\n",
        "      #print('p2 = ', p2) #Not important part, can be deleted to save memory\n",
        "      break\n",
        "    if case(1): #The driver does not write\n",
        "      TXT_Grade = 4\n",
        "      p2 = 0\n",
        "      #print('TXT_Grade = ', TXT_Grade) #Not important part, can be deleted to save memory\n",
        "      #print('p2 = ', p2) #Not important part, can be deleted to save memory\n",
        "    break"
      ]
    },
    {
      "cell_type": "code",
      "execution_count": null,
      "metadata": {
        "colab": {
          "base_uri": "https://localhost:8080/"
        },
        "id": "KFmR_WFpd200",
        "outputId": "7ae59fad-bae3-4827-fc89-0ffa80223afd"
      },
      "outputs": [
        {
          "name": "stdout",
          "output_type": "stream",
          "text": [
            "0\n"
          ]
        }
      ],
      "source": [
        "RD = int(input())\n",
        "\n",
        "for case in switch(RD):\n",
        "    if case(0): #Aggressive driving\n",
        "      RD_Grade = 0\n",
        "      p3 = 0.03278688524\n",
        "      break\n",
        "    if case(1): #Reckless driving/Tailgatin\n",
        "      RD_Grade = 4\n",
        "      p3 = 0.02446782481\n",
        "      break"
      ]
    },
    {
      "cell_type": "code",
      "execution_count": null,
      "metadata": {
        "colab": {
          "base_uri": "https://localhost:8080/"
        },
        "id": "PeOSRXHNgkJh",
        "outputId": "5b28aa5e-a37c-4a3b-ca14-aa726e19f723"
      },
      "outputs": [
        {
          "name": "stdout",
          "output_type": "stream",
          "text": [
            "1\n"
          ]
        }
      ],
      "source": [
        "Seat = int(input())\n",
        "\n",
        "for case in switch(Seat):\n",
        "    if case(0): #Seatbelts are off\n",
        "      Seat_Grade = 0\n",
        "      break\n",
        "    if case(1): #Seatbelts are on\n",
        "      Seat_Grade = 4\n",
        "      break"
      ]
    },
    {
      "cell_type": "code",
      "execution_count": null,
      "metadata": {
        "colab": {
          "base_uri": "https://localhost:8080/"
        },
        "id": "OWZFMP_LhgsZ",
        "outputId": "7d86e54e-c38a-4b88-f306-614c4944fbff"
      },
      "outputs": [
        {
          "name": "stdout",
          "output_type": "stream",
          "text": [
            "3\n"
          ]
        }
      ],
      "source": [
        "Speed = int(input())\n",
        "\n",
        "for case in switch(Speed):\n",
        "    if case(0): #More then 50MPH\n",
        "      Speed_Grade = 0\n",
        "      p4 = 0.05854800936\n",
        "      break\n",
        "    if case(1): #+40MPH\n",
        "      Speed_Grade = 1\n",
        "      p4 = 0.02562131693\n",
        "      break\n",
        "    if case(2): #+30MPH\n",
        "      Speed_Grade = 2\n",
        "      p4 = 0.01999200319\n",
        "      break\n",
        "    if case(3): #+20MPH\n",
        "      Speed_Grade = 3\n",
        "      p4 = 0.01801477211\n",
        "      break\n",
        "    if case(4): #+10MPH\n",
        "      Speed_Grade = 4\n",
        "      p4 = 0.0171659085\n",
        "      break\n",
        "    if case(5): #Didn't exceed the speed limit\n",
        "      Speed_Grade = 4\n",
        "      p4 = 0\n",
        "      break"
      ]
    },
    {
      "cell_type": "code",
      "execution_count": null,
      "metadata": {
        "colab": {
          "base_uri": "https://localhost:8080/"
        },
        "id": "oVm-H9jVp7aS",
        "outputId": "3efc0368-1953-470a-aa47-f2faaab91d13"
      },
      "outputs": [
        {
          "name": "stdout",
          "output_type": "stream",
          "text": [
            "3\n"
          ]
        }
      ],
      "source": [
        "Pass = int(input())\n",
        "\n",
        "for case in switch(Pass):\n",
        "    if case(0): #0 Passenger\n",
        "      Pass_Grade = 4\n",
        "      p5 = 0\n",
        "      break\n",
        "    if case(1): #1 Passenger\n",
        "      Pass_Grade = 3\n",
        "      p5 = 0.03278688524\n",
        "      break\n",
        "    if case(2): #2 Passenger\n",
        "      Pass_Grade = 2\n",
        "      p5 = 0.08196721311\n",
        "      break\n",
        "    if case(3): #3 Passenger\n",
        "      Pass_Grade = 1\n",
        "      p5 = 0.08196721311\n",
        "      break\n",
        "    if case(4): #4+ Passenger\n",
        "      Pass_Grade = 0\n",
        "      p5 = 0.08196721311\n",
        "      break"
      ]
    },
    {
      "cell_type": "code",
      "execution_count": null,
      "metadata": {
        "colab": {
          "base_uri": "https://localhost:8080/"
        },
        "id": "WfIq7c-arYQK",
        "outputId": "f4b0c825-3248-4448-ba6e-8a1753451565"
      },
      "outputs": [
        {
          "name": "stdout",
          "output_type": "stream",
          "text": [
            "0\n"
          ]
        }
      ],
      "source": [
        "Weat = int(input())\n",
        "\n",
        "for case in switch(Weat):\n",
        "    if case(0): #Good weather\n",
        "      p6 = 0\n",
        "      break\n",
        "    if case(1): #Bad weather\n",
        "      p6 = 0.02083333333\n",
        "      break"
      ]
    },
    {
      "cell_type": "code",
      "execution_count": null,
      "metadata": {
        "colab": {
          "base_uri": "https://localhost:8080/"
        },
        "id": "fK-73odSsVu5",
        "outputId": "11001536-13bd-439d-f234-61be3e37964b"
      },
      "outputs": [
        {
          "name": "stdout",
          "output_type": "stream",
          "text": [
            "10\n"
          ]
        }
      ],
      "source": [
        "Mon = int(input())\n",
        "\n",
        "for case in switch(Mon):\n",
        "    if case(0): #January\n",
        "      p7 = 0.01369863013\n",
        "      break\n",
        "    if case(1): #February\n",
        "      p7 = 0.01369863013\n",
        "      break\n",
        "    if case(2): #March\n",
        "      p7 = 0.015625\n",
        "      break\n",
        "    if case(3): #April\n",
        "      p7 = 0.015625\n",
        "      break\n",
        "    if case(4): #May\n",
        "      p7 = 0.01785714285\n",
        "      break\n",
        "    if case(5): #June\n",
        "      p7 = 0.01785714285\n",
        "      break\n",
        "    if case(6): #July\n",
        "      p7 = 0.01960784313\n",
        "      break\n",
        "    if case(7): #August\n",
        "      p7 = 0.015625\n",
        "      break\n",
        "    if case(8): #September\n",
        "      p7 = 0.01785714285\n",
        "      break\n",
        "    if case(9): #October\n",
        "      p7 = 0.01785714285\n",
        "      break\n",
        "    if case(10): #November\n",
        "      p7 = 0.015625\n",
        "      break\n",
        "    if case(11): #December\n",
        "      p7 = 0.01369863013\n",
        "      break"
      ]
    },
    {
      "cell_type": "code",
      "execution_count": null,
      "metadata": {
        "colab": {
          "base_uri": "https://localhost:8080/"
        },
        "id": "fzWHkPe_u16T",
        "outputId": "87545ed8-22f0-43f1-bf30-a30dd0b1dba7"
      },
      "outputs": [
        {
          "name": "stdout",
          "output_type": "stream",
          "text": [
            "4\n"
          ]
        }
      ],
      "source": [
        "Day = int(input())\n",
        "\n",
        "for case in switch(Day):\n",
        "    if case(0): #Sunday\n",
        "      p8 = 0.02083333333\n",
        "      break\n",
        "    if case(1): #Monday\n",
        "      p8 = 0.01492537313\n",
        "      break\n",
        "    if case(2): #Tuesday\n",
        "      p8 = 0.01265822784\n",
        "      break\n",
        "    if case(3): #Wednesday\n",
        "      p8 = 0.01265822784\n",
        "      break\n",
        "    if case(4): #Thursday\n",
        "      p8 = 0.01492537313\n",
        "      break\n",
        "    if case(5): #Friday\n",
        "      p8 = 0.01724137931\n",
        "      break\n",
        "    if case(6): #Saturday\n",
        "      p8 = 0.02173913043\n",
        "      break"
      ]
    },
    {
      "cell_type": "code",
      "execution_count": null,
      "metadata": {
        "colab": {
          "base_uri": "https://localhost:8080/"
        },
        "id": "DQLT_j8SwTh5",
        "outputId": "a6488955-2f1e-4d1c-8436-fff3373a8d8b"
      },
      "outputs": [
        {
          "name": "stdout",
          "output_type": "stream",
          "text": [
            "2\n"
          ]
        }
      ],
      "source": [
        "Time = int(input())\n",
        "\n",
        "for case in switch(Time):\n",
        "    if case(0): #Midnight - 3 a.m.\n",
        "      p9 = 0.01694915254\n",
        "      break\n",
        "    if case(1): #3 a.m. - 6 a.m.\n",
        "      p9 = 0.01052631578\n",
        "      break\n",
        "    if case(2): #6 a.m. - 9 a.m.\n",
        "      p9 = 0.01449275362\n",
        "      break\n",
        "    if case(3): #9 a.m. - noon\n",
        "      p9 = 0.01052631578\n",
        "      break\n",
        "    if case(4): #Noon - 3 p.m.\n",
        "      p9 = 0.01449275362\n",
        "      break\n",
        "    if case(5): #3 p.m. - 6 p.m.\n",
        "      p9 = 0.01960784313\n",
        "      break\n",
        "    if case(6): #6 p.m. - 9 p.m.\n",
        "      p9 = 0.0238095238\n",
        "      break\n",
        "    if case(7): #9 p.m. - midnight\n",
        "      p9 = 0.02083333333\n",
        "      break"
      ]
    },
    {
      "cell_type": "code",
      "execution_count": null,
      "metadata": {
        "colab": {
          "base_uri": "https://localhost:8080/"
        },
        "id": "Fqco4gTUxzLs",
        "outputId": "4fe0d7d6-a238-45a6-81f4-84e0789cee06"
      },
      "outputs": [
        {
          "name": "stdout",
          "output_type": "stream",
          "text": [
            "0\n"
          ]
        }
      ],
      "source": [
        "Gend = int(input())\n",
        "\n",
        "for case in switch(Gend):\n",
        "    if case(0): #Men\n",
        "      p10 = 0\n",
        "      break\n",
        "    if case(1): #Women\n",
        "      p10 = 0.00819672131\n",
        "      break"
      ]
    },
    {
      "cell_type": "code",
      "execution_count": null,
      "metadata": {
        "colab": {
          "base_uri": "https://localhost:8080/"
        },
        "id": "v094bCipySVO",
        "outputId": "7626ef9a-0402-40f7-d9b9-ca9cb94b16b0"
      },
      "outputs": [
        {
          "name": "stdout",
          "output_type": "stream",
          "text": [
            "1\n"
          ]
        }
      ],
      "source": [
        "Age = int(input())\n",
        "\n",
        "for case in switch(Age):\n",
        "    if case(0): # Over 20 years old\n",
        "      p11 = 0.00546448087\n",
        "      break\n",
        "    if case(1): #(Teens ages 15 - 19\n",
        "      p11 = 0.01639344262\n",
        "      break"
      ]
    },
    {
      "cell_type": "code",
      "execution_count": null,
      "metadata": {
        "id": "2ss10EpAzCgD"
      },
      "outputs": [],
      "source": [
        "Grade = (Alc_Grade + Pass_Grade + RD_Grade + Speed_Grade + TXT_Grade + Seat_Grade)/6\n",
        "Red_Grade = (Alc_Grade + TXT_Grade)/2\n",
        "#Grade = 4; #Not important part, can be deleted to save memory\n",
        "#Red_Grade = 2; #Not important part, can be deleted to save memory\n",
        "#print('Grade - ', Grade) #Not important part, can be deleted to save memory\n",
        "#print('Red Grade - ', Red_Grade) #Not important part, can be deleted to save memory\n",
        "if Grade > (Red_Grade + 1):\n",
        "  Grade = Red_Grade + 1\n",
        "#print('Grade - ', Grade) #Not important part, can be deleted to save memory\n",
        "#print('Red Grade - ', Red_Grade) #Not important part, can be deleted to save memory"
      ]
    },
    {
      "cell_type": "code",
      "execution_count": null,
      "metadata": {
        "id": "5IgN5U54oQIR"
      },
      "outputs": [],
      "source": [
        "#Grade = 3.5 #Not important part, can be deleted to save memory\n",
        "#Red_Grade = 4 #Not important part, can be deleted to save memory\n",
        "GradeInt = int(Grade)\n",
        "Grade2 = Grade - GradeInt\n",
        "#print('GradeInt = ', GradeInt) #Not important part, can be deleted to save memory\n",
        "#print('Grade2 = ', Grade2) #Not important part, can be deleted to save memory\n",
        "if Grade2 <=0.40: \n",
        "  Grade = Grade - Grade2\n",
        "elif Grade2 >=0.70: \n",
        "  Grade = (Grade - Grade2) + 1\n",
        "else: \n",
        "  if Grade < Red_Grade:\n",
        "    Grade = (Grade - Grade2) + 1\n",
        "  elif Grade > Red_Grade:\n",
        "    Grade = Grade - Grade2\n",
        "  else:\n",
        "    if Grade2 >= 0.5:\n",
        "      Grade = (Grade - Grade2) + 1\n",
        "    elif Grade2 < 0.5:\n",
        "      Grade = Grade - Grade2\n",
        "#print('grade = ', Grade) #Not important part, can be deleted to save memory"
      ]
    },
    {
      "cell_type": "code",
      "execution_count": null,
      "metadata": {
        "colab": {
          "base_uri": "https://localhost:8080/"
        },
        "id": "JCzPywP2ycNd",
        "outputId": "9e5ca9d0-d1b7-4d1b-d32c-0da377a8e2de"
      },
      "outputs": [
        {
          "name": "stdout",
          "output_type": "stream",
          "text": [
            "Result =  C\n"
          ]
        }
      ],
      "source": [
        "for case in switch(Grade):\n",
        "    if case(0): \n",
        "      Res = 'FX'\n",
        "      break\n",
        "    if case(1): \n",
        "      Res = 'D'\n",
        "      break\n",
        "    if case(2): \n",
        "      Res = 'C'\n",
        "      break\n",
        "    if case(3): \n",
        "      Res = 'B'\n",
        "      break\n",
        "    if case(4): \n",
        "      Res = 'A'\n",
        "      break\n",
        "print('Result = ', Res) #Not important part, can be deleted to save memory"
      ]
    },
    {
      "cell_type": "code",
      "execution_count": null,
      "metadata": {
        "id": "ZGic8nyWz2uo"
      },
      "outputs": [],
      "source": [
        "q1 = 1-p1\n",
        "q2 = 1-p2\n",
        "q3 = 1-p3\n",
        "q4 = 1-p4\n",
        "q5 = 1-p5\n",
        "q6 = 1-p6\n",
        "q7 = 1-p7\n",
        "q8 = 1-p8\n",
        "q9 = 1-p9\n",
        "q10 = 1-p10\n",
        "q11 = 1-p11"
      ]
    },
    {
      "cell_type": "code",
      "execution_count": null,
      "metadata": {
        "colab": {
          "base_uri": "https://localhost:8080/"
        },
        "id": "lZT_DiM11Rbi",
        "outputId": "d8da5b26-426f-4b78-87fc-0ec2121df69d"
      },
      "outputs": [
        {
          "name": "stdout",
          "output_type": "stream",
          "text": [
            "You grade -  C\n",
            "Your chance of getting into an accident:  2.352322310975418\n",
            "This is on  2.335928868355418  greater than the chance of an accident under normal conditions\n"
          ]
        }
      ],
      "source": [
        "p = 1-(q1*q2*q3*q4*q5*q6*q7*q8*q9*q10*q11)\n",
        "p_2 = p-0.01639344262\n",
        "print('You grade - ', Res)\n",
        "print('Your chance of getting into an accident: ', p)\n",
        "print('This is on ', p_2, ' greater than the chance of an accident under normal conditions')"
      ]
    }
  ],
  "metadata": {
    "colab": {
      "name": "drivers",
      "provenance": []
    },
    "kernelspec": {
      "display_name": "Python 3",
      "name": "python3"
    },
    "language_info": {
      "name": "python",
      "version": "3.10.2"
    }
  },
  "nbformat": 4,
  "nbformat_minor": 0
}
